{
 "cells": [
  {
   "cell_type": "markdown",
   "metadata": {},
   "source": [
    "# 태양광 발전량 예측 AI 경진대회"
   ]
  },
  {
   "cell_type": "markdown",
   "metadata": {},
   "source": [
    "### Column\n",
    "\n",
    "- Hour - 시간\n",
    "- Minute - 분\n",
    "- DHI - 수평면 산란일사량(Diffuse Horizontal Irradiance (W/m2))\n",
    "- DNI - 직달일사량(Direct Normal Irradiance (W/m2))\n",
    "- WS - 풍속(Wind Speed (m/s))\n",
    "- RH - 상대습도(Relative Humidity (%))\n",
    "- T - 기온(Temperature (Degree C))\n",
    "- **Target - 태양광 발전량 (kW)**\n"
   ]
  },
  {
   "cell_type": "code",
   "execution_count": 1,
   "metadata": {},
   "outputs": [],
   "source": [
    "import pandas as pd \n",
    "import numpy as np\n",
    "import warnings\n",
    "warnings.filterwarnings('ignore')\n",
    "\n",
    "import matplotlib.pyplot as plt\n",
    "import seaborn as sns\n",
    "\n",
    "from sklearn.model_selection import train_test_split\n",
    "from sklearn.preprocessing import StandardScaler\n",
    "from sklearn.ensemble import RandomForestRegressor, GradientBoostingRegressor\n",
    "\n",
    "from lightgbm import LGBMRegressor"
   ]
  },
  {
   "cell_type": "code",
   "execution_count": 2,
   "metadata": {},
   "outputs": [],
   "source": [
    "train = pd.read_csv('train.csv')"
   ]
  },
  {
   "cell_type": "code",
   "execution_count": 3,
   "metadata": {},
   "outputs": [],
   "source": [
    "test = pd.read_csv('test.csv')"
   ]
  },
  {
   "cell_type": "code",
   "execution_count": 4,
   "metadata": {},
   "outputs": [],
   "source": [
    "sub = pd.read_csv('sample_submission.csv')"
   ]
  },
  {
   "cell_type": "code",
   "execution_count": 5,
   "metadata": {},
   "outputs": [
    {
     "name": "stdout",
     "output_type": "stream",
     "text": [
      "DHI의 로그 전환 전 skew값 : 2.1486595965487445\n",
      "DHI의 로그 전환 후 skew값 : 1.146976837370967\n",
      "###### \n",
      "\n",
      "DNI의 로그 전환 전 skew값 : 1.1198749113362643\n",
      "DNI의 로그 전환 후 skew값 : 0.7513570828564436\n",
      "###### \n",
      "\n",
      "WS의 로그 전환 전 skew값 : 1.199682831261863\n",
      "WS의 로그 전환 후 skew값 : 0.7883131823628775\n",
      "###### \n",
      "\n"
     ]
    }
   ],
   "source": [
    "for col in train.columns:\n",
    "    if train[col].skew() >= 1 and col != \"TARGET\":\n",
    "        print(\"{}의 로그 전환 전 skew값 : {}\".format(col, train[col].skew()))\n",
    "        \n",
    "        print(\"{}의 로그 전환 후 skew값 : {}\".format(col,np.log1p(train[col].skew())))\n",
    "        \n",
    "        print(\"###### \\n\")"
   ]
  },
  {
   "cell_type": "code",
   "execution_count": 5,
   "metadata": {},
   "outputs": [],
   "source": [
    "del test['sep_day']"
   ]
  },
  {
   "cell_type": "code",
   "execution_count": null,
   "metadata": {},
   "outputs": [],
   "source": [
    "train['DHI'] = np.log1p(train['DHI'])\n",
    "train['DNI'] = np.log1p(train['DNI'])\n",
    "train['WS'] = np.log1p(train['WS'])\n",
    "\n",
    "test['DHI'] = np.log1p(test['DHI'])\n",
    "test['DNI'] = np.log1p(test['DNI'])\n",
    "test['WS'] = np.log1p(test['WS'])"
   ]
  },
  {
   "cell_type": "code",
   "execution_count": 6,
   "metadata": {},
   "outputs": [],
   "source": [
    "train['TARGET1'] = train['TARGET'].shift(-48)\n",
    "train['TARGET2'] = train['TARGET'].shift(-96)"
   ]
  },
  {
   "cell_type": "code",
   "execution_count": 8,
   "metadata": {},
   "outputs": [],
   "source": [
    "X_train = train.drop(['Day','Minute'],axis = 1)\n",
    "\n",
    "X_train1 = X_train.loc[X_train['TARGET1'].notnull(),:].iloc[:,:-1]\n",
    "X_train2 = X_train.loc[X_train['TARGET2'].notnull(),:]\n",
    "del X_train2['TARGET1']"
   ]
  },
  {
   "cell_type": "code",
   "execution_count": 9,
   "metadata": {},
   "outputs": [],
   "source": [
    "y_train1 = X_train1['TARGET1']\n",
    "y_train2 = X_train2['TARGET2']"
   ]
  },
  {
   "cell_type": "code",
   "execution_count": 10,
   "metadata": {},
   "outputs": [],
   "source": [
    "X_tr1,X_val1, y_tr1, y_val1 = train_test_split(X_train1.iloc[:,:-1],y_train1,test_size = 0.25,shuffle = False)\n",
    "X_tr2, X_val2, y_tr2, y_val2 = train_test_split(X_train2.iloc[:,:-1], y_train2,test_size = 0.25,shuffle = False)"
   ]
  },
  {
   "cell_type": "code",
   "execution_count": 11,
   "metadata": {},
   "outputs": [],
   "source": [
    "X_test = test.loc[test['Day'] == 6,:].drop(['Day','Minute'],axis = 1)"
   ]
  },
  {
   "cell_type": "code",
   "execution_count": 12,
   "metadata": {},
   "outputs": [],
   "source": [
    "test0 = test.loc[test['Day'] == 0,].drop(['Day','Minute'],axis = 1)\n",
    "test1 = test.loc[test['Day'] == 1,].drop(['Day','Minute'],axis = 1)\n",
    "test2 = test.loc[test['Day'] == 2,].drop(['Day','Minute'],axis = 1)\n",
    "test3 = test.loc[test['Day'] == 3,].drop(['Day','Minute'],axis = 1)\n",
    "test4 = test.loc[test['Day'] == 4,].drop(['Day','Minute'],axis = 1)\n",
    "\n",
    "test_list = [test0,test1,test2,test3,test4]"
   ]
  },
  {
   "cell_type": "code",
   "execution_count": 13,
   "metadata": {},
   "outputs": [],
   "source": [
    "test_target0 = test.loc[test['Day'] == 1,:]['TARGET']\n",
    "test_target1 = test.loc[test['Day'] == 2,:]['TARGET']\n",
    "test_target2 = test.loc[test['Day'] == 3,:]['TARGET']\n",
    "test_target3 = test.loc[test['Day'] == 4,:]['TARGET']\n",
    "test_target4 = test.loc[test['Day'] == 5,:]['TARGET']\n",
    "test_target5 = test.loc[test['Day'] == 6,:]['TARGET']\n",
    "\n",
    "target_list = [[test_target0,test_target1],[test_target1,test_target2],\n",
    "              [test_target2,test_target3],[test_target3,test_target4],\n",
    "              [test_target4,test_target5]]"
   ]
  },
  {
   "cell_type": "code",
   "execution_count": 14,
   "metadata": {},
   "outputs": [],
   "source": [
    "X_tr = [X_tr1,X_tr2]\n",
    "X_val = [X_val1,X_val2]\n",
    "y_tr = [y_tr1,y_tr2]\n",
    "y_val = [y_val1,y_val2]"
   ]
  },
  {
   "cell_type": "code",
   "execution_count": 15,
   "metadata": {},
   "outputs": [],
   "source": [
    "def pb_loss(true, pred, q) :\n",
    "    \n",
    "    L_list = []\n",
    "    \n",
    "    for i in range(len(true)) :\n",
    "        \n",
    "        if true.iloc[i] >= pred[i] :\n",
    "            L = true.iloc[i] - pred[i]\n",
    "            L *= q\n",
    "            \n",
    "        else :\n",
    "            L1 = pred[i] - true.iloc[i]\n",
    "            L2 = 1 - q\n",
    "            L = L1 * L2\n",
    "            \n",
    "        L_list.append(L)\n",
    "        \n",
    "    return np.mean(L_list)"
   ]
  },
  {
   "cell_type": "code",
   "execution_count": 18,
   "metadata": {},
   "outputs": [],
   "source": [
    "def model_learning(model,quantiles,train_X,train_y,test_list,target_list) :\n",
    "    allpbloss = []\n",
    "    print('{} model Start!\\n'.format(str(model).split('(')[0]))\n",
    "    \n",
    "    for t, target in enumerate(zip(test_list,target_list)) :\n",
    "        pbloss = []\n",
    "        print('{}일째 데이터로 {}일,{}일 예측 시작'.format(t,t+1,t+2))\n",
    "        \n",
    "        for i in range(2) :\n",
    "            print(\"\\n{} Start Learning...\\n\".format(i+1))\n",
    "            \n",
    "            for q in quantiles :\n",
    "                if str(model).split('(')[0] == 'LGBMRegressor' or str(model).split('(')[0] == 'GradientBoostingRegressor':\n",
    "                    params = {'alpha' : q}        \n",
    "                    models = model.set_params(**params)\n",
    "                    \n",
    "                else:\n",
    "                    modelcopy = model.copy()\n",
    "                    params = {'loss_function' : 'Quantile:alpha={}'.format(q)}\n",
    "                    models = modelcopy.set_params(**params)\n",
    "                \n",
    "                models.fit(train_X[i],train_y[i])\n",
    "                pred = models.predict(test_list[t])\n",
    "                \n",
    "                for a in range(81) :\n",
    "                    pred[48*a : 48*(a+1)][:10] = 0\n",
    "                    pred[48*a : 48*(a+1)][-9:] = 0\n",
    "                    \n",
    "                loss = pb_loss(target_list[t][i],pred,q)\n",
    "                pbloss.append(loss)\n",
    "                allpbloss.append(np.mean(pbloss))\n",
    "                \n",
    "                print(\"{} quantile pb_loss : {}\".format(q,np.mean(pbloss)))\n",
    "                \n",
    "        print(\"{} Finish\\n\".format(i+1))\n",
    "        print('평균 pb_loss : {}\\n'.format(np.mean(pbloss)))\n",
    "    \n",
    "    print(\"All Finish!\\n\")\n",
    "    print(\"전체 평균 pb_loss : {}\".format(np.mean(allpbloss)))"
   ]
  },
  {
   "cell_type": "code",
   "execution_count": 19,
   "metadata": {},
   "outputs": [],
   "source": [
    "def result_value(model,train_X,train_y,quantiles) :\n",
    "    print(\"Start Learning...\\n\")\n",
    "    predicted1 = []\n",
    "    predicted2 = []\n",
    "    predict_list = [predicted1,predicted2]\n",
    "    \n",
    "    for i in range(2) :\n",
    "        for q in quantiles :\n",
    "            params = {'alpha': q}\n",
    "            models = model.set_params(**params)\n",
    "            models.fit(train_X[i],train_y[i])\n",
    "            pred = models.predict(X_test)\n",
    "            predict_list[i].append(pred) \n",
    "            \n",
    "            for pr in predict_list[i] :\n",
    "                for a in range(81) :\n",
    "                    pr[48*a : 48*(a+1)][:10] = 0\n",
    "                    pr[48*a : 48*(a+1)][-9:] = 0\n",
    "        \n",
    "    for k in range(9):\n",
    "        for v in range(2) :\n",
    "            predict_list[v][k] = np.array([0 if x<0 else x for x in predict_list[v][k]])\n",
    "            \n",
    "        day7.iloc[:,k+1] = predicted1[k]\n",
    "        day8.iloc[:,k+1] = predicted2[k]\n",
    "        \n",
    "    sub = pd.concat([day7,day8]).sort_index()\n",
    "    print(\"Finish!\")\n",
    "    \n",
    "    return sub"
   ]
  },
  {
   "cell_type": "code",
   "execution_count": 20,
   "metadata": {},
   "outputs": [],
   "source": [
    "day7 = sub.loc[sub.id.str.contains('Day7')]\n",
    "day8 = sub.loc[sub.id.str.contains('Day8')]"
   ]
  },
  {
   "cell_type": "code",
   "execution_count": 21,
   "metadata": {},
   "outputs": [],
   "source": [
    "lgbm_params = { 'learning_rate': 0.05, 'max_depth': 9, 'n_estimators': 500, 'num_leaves': 9}\n",
    "lgbm = LGBMRegressor(n_jobs=-1,random_state=1218,**lgbm_params,metric = 'quantile',objective = 'quantile')"
   ]
  },
  {
   "cell_type": "code",
   "execution_count": 23,
   "metadata": {
    "scrolled": true
   },
   "outputs": [
    {
     "name": "stdout",
     "output_type": "stream",
     "text": [
      "0일째 데이터로 1일,2일 예측 시작\n",
      "\n",
      "1 Start Learning...\n",
      "\n",
      "0.05 quantile pb_loss : 0.7830925923760502\n",
      "0.16 quantile pb_loss : 1.3754928003289184\n",
      "0.25 quantile pb_loss : 1.7203009589917393\n",
      "0.38 quantile pb_loss : 1.9496307855860628\n",
      "0.47 quantile pb_loss : 2.0728772013966683\n",
      "0.58 quantile pb_loss : 2.109292072624489\n",
      "0.66 quantile pb_loss : 2.0961293051484953\n",
      "0.78 quantile pb_loss : 2.0236722724545526\n",
      "0.87 quantile pb_loss : 1.9167772449541642\n",
      "\n",
      "2 Start Learning...\n",
      "\n",
      "0.05 quantile pb_loss : 1.8047933414917026\n",
      "0.16 quantile pb_loss : 1.8241634043421007\n",
      "0.25 quantile pb_loss : 1.8838613483570734\n",
      "0.38 quantile pb_loss : 1.9536781304988347\n",
      "0.47 quantile pb_loss : 2.0107310700788394\n",
      "0.58 quantile pb_loss : 2.0397261595252347\n",
      "0.66 quantile pb_loss : 2.045799709397516\n",
      "0.78 quantile pb_loss : 2.0175752418074584\n",
      "0.87 quantile pb_loss : 1.9661321643554335\n",
      "2 Finish\n",
      "\n",
      "평균 pb_loss : 1.9661321643554335\n",
      "\n",
      "1일째 데이터로 2일,3일 예측 시작\n",
      "\n",
      "1 Start Learning...\n",
      "\n",
      "0.05 quantile pb_loss : 0.783614376321362\n",
      "0.16 quantile pb_loss : 1.3771822991003388\n"
     ]
    },
    {
     "ename": "KeyboardInterrupt",
     "evalue": "",
     "output_type": "error",
     "traceback": [
      "\u001b[1;31m---------------------------------------------------------------------------\u001b[0m",
      "\u001b[1;31mKeyboardInterrupt\u001b[0m                         Traceback (most recent call last)",
      "\u001b[1;32m<ipython-input-23-64aa8406d91b>\u001b[0m in \u001b[0;36m<module>\u001b[1;34m\u001b[0m\n\u001b[1;32m----> 1\u001b[1;33m \u001b[0mmodel_learning\u001b[0m\u001b[1;33m(\u001b[0m\u001b[0mlgbm\u001b[0m\u001b[1;33m,\u001b[0m\u001b[0mquant2\u001b[0m\u001b[1;33m,\u001b[0m\u001b[0mX_tr\u001b[0m\u001b[1;33m,\u001b[0m\u001b[0my_tr\u001b[0m\u001b[1;33m,\u001b[0m\u001b[0mtest_list\u001b[0m\u001b[1;33m,\u001b[0m\u001b[0mtarget_list\u001b[0m\u001b[1;33m)\u001b[0m\u001b[1;33m\u001b[0m\u001b[1;33m\u001b[0m\u001b[0m\n\u001b[0m",
      "\u001b[1;32m<ipython-input-18-d8d43232a690>\u001b[0m in \u001b[0;36mmodel_learning\u001b[1;34m(model, quantiles, train_X, train_y, test_list, target_list)\u001b[0m\n\u001b[0;32m     10\u001b[0m                 \u001b[0mparams\u001b[0m \u001b[1;33m=\u001b[0m \u001b[1;33m{\u001b[0m\u001b[1;34m'alpha'\u001b[0m \u001b[1;33m:\u001b[0m \u001b[0mq\u001b[0m\u001b[1;33m}\u001b[0m\u001b[1;33m\u001b[0m\u001b[1;33m\u001b[0m\u001b[0m\n\u001b[0;32m     11\u001b[0m                 \u001b[0mmodels\u001b[0m \u001b[1;33m=\u001b[0m \u001b[0mmodel\u001b[0m\u001b[1;33m.\u001b[0m\u001b[0mset_params\u001b[0m\u001b[1;33m(\u001b[0m\u001b[1;33m**\u001b[0m\u001b[0mparams\u001b[0m\u001b[1;33m)\u001b[0m\u001b[1;33m\u001b[0m\u001b[1;33m\u001b[0m\u001b[0m\n\u001b[1;32m---> 12\u001b[1;33m                 \u001b[0mmodels\u001b[0m\u001b[1;33m.\u001b[0m\u001b[0mfit\u001b[0m\u001b[1;33m(\u001b[0m\u001b[0mtrain_X\u001b[0m\u001b[1;33m[\u001b[0m\u001b[0mi\u001b[0m\u001b[1;33m]\u001b[0m\u001b[1;33m,\u001b[0m\u001b[0mtrain_y\u001b[0m\u001b[1;33m[\u001b[0m\u001b[0mi\u001b[0m\u001b[1;33m]\u001b[0m\u001b[1;33m)\u001b[0m\u001b[1;33m\u001b[0m\u001b[1;33m\u001b[0m\u001b[0m\n\u001b[0m\u001b[0;32m     13\u001b[0m                 \u001b[0mpred\u001b[0m \u001b[1;33m=\u001b[0m \u001b[0mmodels\u001b[0m\u001b[1;33m.\u001b[0m\u001b[0mpredict\u001b[0m\u001b[1;33m(\u001b[0m\u001b[0mtest_list\u001b[0m\u001b[1;33m[\u001b[0m\u001b[0mt\u001b[0m\u001b[1;33m]\u001b[0m\u001b[1;33m)\u001b[0m\u001b[1;33m\u001b[0m\u001b[1;33m\u001b[0m\u001b[0m\n\u001b[0;32m     14\u001b[0m \u001b[1;33m\u001b[0m\u001b[0m\n",
      "\u001b[1;32m~\\AppData\\Local\\Continuum\\anaconda3\\lib\\site-packages\\lightgbm\\sklearn.py\u001b[0m in \u001b[0;36mfit\u001b[1;34m(self, X, y, sample_weight, init_score, eval_set, eval_names, eval_sample_weight, eval_init_score, eval_metric, early_stopping_rounds, verbose, feature_name, categorical_feature, callbacks, init_model)\u001b[0m\n\u001b[0;32m    758\u001b[0m                                        \u001b[0mverbose\u001b[0m\u001b[1;33m=\u001b[0m\u001b[0mverbose\u001b[0m\u001b[1;33m,\u001b[0m \u001b[0mfeature_name\u001b[0m\u001b[1;33m=\u001b[0m\u001b[0mfeature_name\u001b[0m\u001b[1;33m,\u001b[0m\u001b[1;33m\u001b[0m\u001b[1;33m\u001b[0m\u001b[0m\n\u001b[0;32m    759\u001b[0m                                        \u001b[0mcategorical_feature\u001b[0m\u001b[1;33m=\u001b[0m\u001b[0mcategorical_feature\u001b[0m\u001b[1;33m,\u001b[0m\u001b[1;33m\u001b[0m\u001b[1;33m\u001b[0m\u001b[0m\n\u001b[1;32m--> 760\u001b[1;33m                                        callbacks=callbacks, init_model=init_model)\n\u001b[0m\u001b[0;32m    761\u001b[0m         \u001b[1;32mreturn\u001b[0m \u001b[0mself\u001b[0m\u001b[1;33m\u001b[0m\u001b[1;33m\u001b[0m\u001b[0m\n\u001b[0;32m    762\u001b[0m \u001b[1;33m\u001b[0m\u001b[0m\n",
      "\u001b[1;32m~\\AppData\\Local\\Continuum\\anaconda3\\lib\\site-packages\\lightgbm\\sklearn.py\u001b[0m in \u001b[0;36mfit\u001b[1;34m(self, X, y, sample_weight, init_score, group, eval_set, eval_names, eval_sample_weight, eval_class_weight, eval_init_score, eval_group, eval_metric, early_stopping_rounds, verbose, feature_name, categorical_feature, callbacks, init_model)\u001b[0m\n\u001b[0;32m    598\u001b[0m                               \u001b[0mevals_result\u001b[0m\u001b[1;33m=\u001b[0m\u001b[0mevals_result\u001b[0m\u001b[1;33m,\u001b[0m \u001b[0mfobj\u001b[0m\u001b[1;33m=\u001b[0m\u001b[0mself\u001b[0m\u001b[1;33m.\u001b[0m\u001b[0m_fobj\u001b[0m\u001b[1;33m,\u001b[0m \u001b[0mfeval\u001b[0m\u001b[1;33m=\u001b[0m\u001b[0mfeval\u001b[0m\u001b[1;33m,\u001b[0m\u001b[1;33m\u001b[0m\u001b[1;33m\u001b[0m\u001b[0m\n\u001b[0;32m    599\u001b[0m                               \u001b[0mverbose_eval\u001b[0m\u001b[1;33m=\u001b[0m\u001b[0mverbose\u001b[0m\u001b[1;33m,\u001b[0m \u001b[0mfeature_name\u001b[0m\u001b[1;33m=\u001b[0m\u001b[0mfeature_name\u001b[0m\u001b[1;33m,\u001b[0m\u001b[1;33m\u001b[0m\u001b[1;33m\u001b[0m\u001b[0m\n\u001b[1;32m--> 600\u001b[1;33m                               callbacks=callbacks, init_model=init_model)\n\u001b[0m\u001b[0;32m    601\u001b[0m \u001b[1;33m\u001b[0m\u001b[0m\n\u001b[0;32m    602\u001b[0m         \u001b[1;32mif\u001b[0m \u001b[0mevals_result\u001b[0m\u001b[1;33m:\u001b[0m\u001b[1;33m\u001b[0m\u001b[1;33m\u001b[0m\u001b[0m\n",
      "\u001b[1;32m~\\AppData\\Local\\Continuum\\anaconda3\\lib\\site-packages\\lightgbm\\engine.py\u001b[0m in \u001b[0;36mtrain\u001b[1;34m(params, train_set, num_boost_round, valid_sets, valid_names, fobj, feval, init_model, feature_name, categorical_feature, early_stopping_rounds, evals_result, verbose_eval, learning_rates, keep_training_booster, callbacks)\u001b[0m\n\u001b[0;32m    250\u001b[0m                                     evaluation_result_list=None))\n\u001b[0;32m    251\u001b[0m \u001b[1;33m\u001b[0m\u001b[0m\n\u001b[1;32m--> 252\u001b[1;33m         \u001b[0mbooster\u001b[0m\u001b[1;33m.\u001b[0m\u001b[0mupdate\u001b[0m\u001b[1;33m(\u001b[0m\u001b[0mfobj\u001b[0m\u001b[1;33m=\u001b[0m\u001b[0mfobj\u001b[0m\u001b[1;33m)\u001b[0m\u001b[1;33m\u001b[0m\u001b[1;33m\u001b[0m\u001b[0m\n\u001b[0m\u001b[0;32m    253\u001b[0m \u001b[1;33m\u001b[0m\u001b[0m\n\u001b[0;32m    254\u001b[0m         \u001b[0mevaluation_result_list\u001b[0m \u001b[1;33m=\u001b[0m \u001b[1;33m[\u001b[0m\u001b[1;33m]\u001b[0m\u001b[1;33m\u001b[0m\u001b[1;33m\u001b[0m\u001b[0m\n",
      "\u001b[1;32m~\\AppData\\Local\\Continuum\\anaconda3\\lib\\site-packages\\lightgbm\\basic.py\u001b[0m in \u001b[0;36mupdate\u001b[1;34m(self, train_set, fobj)\u001b[0m\n\u001b[0;32m   2370\u001b[0m             _safe_call(_LIB.LGBM_BoosterUpdateOneIter(\n\u001b[0;32m   2371\u001b[0m                 \u001b[0mself\u001b[0m\u001b[1;33m.\u001b[0m\u001b[0mhandle\u001b[0m\u001b[1;33m,\u001b[0m\u001b[1;33m\u001b[0m\u001b[1;33m\u001b[0m\u001b[0m\n\u001b[1;32m-> 2372\u001b[1;33m                 ctypes.byref(is_finished)))\n\u001b[0m\u001b[0;32m   2373\u001b[0m             \u001b[0mself\u001b[0m\u001b[1;33m.\u001b[0m\u001b[0m__is_predicted_cur_iter\u001b[0m \u001b[1;33m=\u001b[0m \u001b[1;33m[\u001b[0m\u001b[1;32mFalse\u001b[0m \u001b[1;32mfor\u001b[0m \u001b[0m_\u001b[0m \u001b[1;32min\u001b[0m \u001b[0mrange_\u001b[0m\u001b[1;33m(\u001b[0m\u001b[0mself\u001b[0m\u001b[1;33m.\u001b[0m\u001b[0m__num_dataset\u001b[0m\u001b[1;33m)\u001b[0m\u001b[1;33m]\u001b[0m\u001b[1;33m\u001b[0m\u001b[1;33m\u001b[0m\u001b[0m\n\u001b[0;32m   2374\u001b[0m             \u001b[1;32mreturn\u001b[0m \u001b[0mis_finished\u001b[0m\u001b[1;33m.\u001b[0m\u001b[0mvalue\u001b[0m \u001b[1;33m==\u001b[0m \u001b[1;36m1\u001b[0m\u001b[1;33m\u001b[0m\u001b[1;33m\u001b[0m\u001b[0m\n",
      "\u001b[1;31mKeyboardInterrupt\u001b[0m: "
     ]
    }
   ],
   "source": [
    "model_learning(lgbm,quant2,X_tr,y_tr,test_list,target_list)"
   ]
  },
  {
   "cell_type": "markdown",
   "metadata": {},
   "source": [
    "## 파생변수 만들기"
   ]
  },
  {
   "cell_type": "markdown",
   "metadata": {},
   "source": [
    "#### 습도"
   ]
  },
  {
   "cell_type": "code",
   "execution_count": 221,
   "metadata": {},
   "outputs": [],
   "source": [
    "train['rain'] = [1 if i == 100 else 0 for i in train['RH']]\n",
    "test['rain'] = [1 if i == 100 else 0 for i in test['RH']]"
   ]
  },
  {
   "cell_type": "markdown",
   "metadata": {},
   "source": [
    "#### 포화 증기압"
   ]
  },
  {
   "cell_type": "code",
   "execution_count": null,
   "metadata": {},
   "outputs": [],
   "source": [
    "train['vp'] = (611 * np.exp((17.27 * train['T']) / (237.3 + train['T']))) / 1000\n",
    "test['vp'] = (611 * np.exp((17.27 * test['T']) / (237.3 + test['T']))) / 1000"
   ]
  },
  {
   "cell_type": "markdown",
   "metadata": {},
   "source": [
    "#### 이슬점 온도"
   ]
  },
  {
   "cell_type": "code",
   "execution_count": null,
   "metadata": {},
   "outputs": [],
   "source": [
    "train['dewpoint'] = train['T'] - ((100 - train['RH']) / 5)\n",
    "test['dewpoint'] = test['T'] - ((100 - test['RH']) / 5)"
   ]
  },
  {
   "cell_type": "code",
   "execution_count": null,
   "metadata": {},
   "outputs": [],
   "source": [
    "def make_dewpoint(df,col) :\n",
    "    dewpoint = []\n",
    "    b = 17.62\n",
    "    c = 243.12\n",
    "    \n",
    "    gamma = (b * df['T'] / (c + df['T']) + np.log(df[col] / 100.0))\n",
    "    dewpoint_T = (c * gamma) / (b - gamma)\n",
    "    return dewpoint_T\n",
    "\n",
    "train.insert(7,'Dewpoint',make_dewpoint(train,'RH'))\n",
    "test.insert(7,'Dewpoint',make_dewpoint(test,'RH'))"
   ]
  },
  {
   "cell_type": "markdown",
   "metadata": {},
   "source": [
    "#### 온도 - 이슬점온도"
   ]
  },
  {
   "cell_type": "code",
   "execution_count": null,
   "metadata": {},
   "outputs": [],
   "source": [
    "train.insert(9,'Td',train['T'] - train['Dewpoint'])\n",
    "test.insert(9,'Td',test['T'] - test['Dewpoint'])"
   ]
  },
  {
   "cell_type": "markdown",
   "metadata": {},
   "source": [
    "#### 이슬점온도 (RH역수로 만든 것)"
   ]
  },
  {
   "cell_type": "code",
   "execution_count": null,
   "metadata": {},
   "outputs": [],
   "source": [
    "train['Dewpoint_1'] = make_dewpoint(train,'RH_1') ## (RH_1)\n",
    "test['Dewpoint_1'] = make_dewpoint(test,'RH_1') ## (RH_1)"
   ]
  },
  {
   "cell_type": "code",
   "execution_count": null,
   "metadata": {},
   "outputs": [],
   "source": [
    "def make_dewpoint(df) :\n",
    "    dewpoint = []\n",
    "    b = 17.62\n",
    "    c = 243.12\n",
    "    \n",
    "    gamma = (b * df['T'] / (c + df['T']) + np.log(df['RH'] / 100.0))\n",
    "    dewpoint_T = (c * gamma) / (b - gamma)\n",
    "    \n",
    "    for dew in dewpoint_T :\n",
    "        if dew >= 26 :\n",
    "            dewpoint.append('high')\n",
    "        elif 24<= dew < 26:\n",
    "            dewpoint.append('extremely')\n",
    "        elif 21 <= dew < 24:\n",
    "            dewpoint.append('very')\n",
    "        elif 18<= dew < 21:\n",
    "            dewpoint.append('uncomfortable')\n",
    "        elif 16<= dew < 18:\n",
    "            dewpoint.append('ok')\n",
    "        elif 13<= dew < 16:\n",
    "            dewpoint.append('comfortable')\n",
    "        elif 10<= dew < 13:\n",
    "            dewpoint.append('very comfortable')\n",
    "        else :\n",
    "            dewpoint.append('dry')\n",
    "    \n",
    "    return dewpoint"
   ]
  },
  {
   "cell_type": "code",
   "execution_count": null,
   "metadata": {},
   "outputs": [],
   "source": [
    "train['Dewpoint'] = make_dewpoint(train)\n",
    "test['Dewpoint'] = make_dewpoint(test)\n",
    "\n",
    "train = pd.get_dummies(train,columns=['Dewpoint'])\n",
    "test = pd.get_dummies(test,columns=['Dewpoint'])"
   ]
  },
  {
   "cell_type": "markdown",
   "metadata": {},
   "source": [
    "#### 일조시간"
   ]
  },
  {
   "cell_type": "code",
   "execution_count": null,
   "metadata": {},
   "outputs": [],
   "source": [
    "def make_sunlight_time(df):\n",
    "    start = []\n",
    "    end = []\n",
    "    result = []\n",
    "    for day in df['Day'].unique() :\n",
    "        start.append(int(df.loc[(df['Day'] == day) & ((df['DHI']!= 0) | (df['DNI'] != 0))].index[0]))\n",
    "        end.append(int(df.loc[(df['Day']==day) & ((df['DHI'] !=0) | (df['DNI'] !=0))].index[len(df.loc[(df['Day']==day) & ((df['DHI'] !=0) | (df['DNI'] !=0))])-1]))\n",
    "        \n",
    "        result.append((end[day] - start[day]) / 2)\n",
    "    return result"
   ]
  },
  {
   "cell_type": "code",
   "execution_count": null,
   "metadata": {},
   "outputs": [],
   "source": [
    "train_list = []\n",
    "train_list.extend(make_sunlight_time(train))\n",
    "train['Sunlight_time'] = train_list * 48"
   ]
  },
  {
   "cell_type": "code",
   "execution_count": null,
   "metadata": {},
   "outputs": [],
   "source": [
    "start = []\n",
    "end = []\n",
    "result = []\n",
    "for i in range(81) :\n",
    "    df = test[int(len(test) / 81 *i) : int(len(test) / 81 * (i+1))]\n",
    "    for day in df['Day'].unique() :\n",
    "        start.append(int(df.loc[(df['Day'] == day) & ((df['DHI']!= 0) | (df['DNI'] != 0))].index[0]))\n",
    "        end.append(int(df.loc[(df['Day']==day) & ((df['DHI'] !=0) | (df['DNI'] !=0))].index[len(df.loc[(df['Day']==day) & ((df['DHI'] !=0) | (df['DNI'] !=0))])-1]))\n",
    "        \n",
    "        result.append((end[day] - start[day]) / 2)\n",
    "\n",
    "test['Sunlight_time'] = result * 48"
   ]
  },
  {
   "cell_type": "code",
   "execution_count": null,
   "metadata": {},
   "outputs": [],
   "source": [
    "train['Sunlight_time'] = train['Sunlight_time'] * 0.7\n",
    "test['Sunlight_time'] = test['Sunlight_time'] * 0.7"
   ]
  },
  {
   "cell_type": "markdown",
   "metadata": {},
   "source": [
    "#### GHI"
   ]
  },
  {
   "cell_type": "code",
   "execution_count": null,
   "metadata": {},
   "outputs": [],
   "source": [
    "def make_GHI(df):\n",
    "    start = []\n",
    "    rise = []\n",
    "    sunset = []\n",
    "    end = []\n",
    "    weight = []\n",
    "    \n",
    "    for v in range(df['Day'].nunique()):\n",
    "        start.append(int(df.loc[df['Day']==v].index[0]))\n",
    "        rise.append(int(df.loc[(df['Day']==v) & ((df['DHI'] !=0) | (df['DNI'] !=0))].index[0]))\n",
    "        sunset.append(int(df.loc[(df['Day']==v) & ((df['DHI'] !=0) | (df['DNI'] !=0))].index[len(df.loc[(df['Day']==v) & ((df['DHI'] !=0) | (df['DNI'] !=0))])-1]))\n",
    "        end.append(int(df.loc[(df['Day'] ==v)].index[47]))\n",
    "        \n",
    "    \n",
    "        a = round((180 / (sunset[v] - rise[v])),2)\n",
    "        b = 0\n",
    "    \n",
    "        for i in range(start[v],rise[v]+1) :\n",
    "            weight.append(0)\n",
    "        \n",
    "        for i in range(rise[v]+1, sunset[v]):\n",
    "            b+=a\n",
    "            weight.append(round(b,2))\n",
    "    \n",
    "        for i in range(sunset[v], end[v]+1) :\n",
    "            weight.append(0)\n",
    "            \n",
    "        for i in range(len(sunset)) :\n",
    "            weight[sunset[i]] = 180\n",
    "     \n",
    "    angle = []\n",
    "    for value in weight :\n",
    "        if value >0 :\n",
    "            angle.append(round(value - 90,2))\n",
    "        else :\n",
    "            angle.append(value)\n",
    "        \n",
    "    return angle"
   ]
  },
  {
   "cell_type": "code",
   "execution_count": null,
   "metadata": {},
   "outputs": [],
   "source": [
    "train_list =[]\n",
    "train_list.extend(make_GHI(train))\n",
    "train_list=[0 if x< 0 else x for x in train_list]\n",
    "train.insert(5,'GHI',train['DNI'] + train['DHI'] *  np.cos(train_list))"
   ]
  },
  {
   "cell_type": "code",
   "execution_count": null,
   "metadata": {},
   "outputs": [],
   "source": [
    "start = []\n",
    "rise = []\n",
    "sunset = []\n",
    "end = []\n",
    "weight = []\n",
    "for i in range(81) :\n",
    "    df = test[int(len(test) / 81*i) : int(len(test) / 81 * (i+1))]\n",
    "    \n",
    "    for v in range(df['Day'].nunique()):\n",
    "        start.append(int(df.loc[df['Day']==v].index[0]))\n",
    "        rise.append(int(df.loc[(df['Day']==v) & ((df['DHI'] !=0) | (df['DNI'] !=0))].index[0]))\n",
    "        sunset.append(int(df.loc[(df['Day']==v) & ((df['DHI'] !=0) | (df['DNI'] !=0))].index[len(df.loc[(df['Day']==v) & ((df['DHI'] !=0) | (df['DNI'] !=0))])-1]))\n",
    "        end.append(int(df.loc[(df['Day'] ==v)].index[47]))\n",
    "        \n",
    "        a = round((180 / (sunset[v] - rise[v])),2)\n",
    "        b = 0\n",
    "        \n",
    "        for i in range(start[v],rise[v]+1) :\n",
    "            weight.append(0)\n",
    "          \n",
    "        for i in range(rise[v]+1,sunset[v]):\n",
    "            b+= a\n",
    "            weight.append(round(b,2))\n",
    "        \n",
    "        for i in range(sunset[v], end[v]+1) :\n",
    "            weight.append(0)\n",
    "            \n",
    "        for i in range(len(sunset)):\n",
    "            weight[sunset[i]] = 180\n",
    "            \n",
    "    angle = []\n",
    "    for value in weight :\n",
    "        if value >0 :\n",
    "            angle.append(round(value - 90,2))\n",
    "        else :\n",
    "            angle.append(value)\n",
    "            \n",
    "angle = [0 if x < 0 else x for x in angle]\n",
    "\n",
    "test.insert(5,'GHI',test['DNI'] + test['DHI'] * np.cos(angle))"
   ]
  },
  {
   "cell_type": "markdown",
   "metadata": {},
   "source": [
    "### version2"
   ]
  },
  {
   "cell_type": "code",
   "execution_count": null,
   "metadata": {},
   "outputs": [],
   "source": [
    " def make_GHI(df):\n",
    "    start = []\n",
    "    rise = []\n",
    "    high = []\n",
    "    sunset = []\n",
    "    end = []\n",
    "    weight = []\n",
    "    \n",
    "    for v in range(df['Day'].nunique()):\n",
    "        \n",
    "        start.append(int(df.loc[df['Day']==v].index[0]))\n",
    "        rise.append(int(df.loc[(df['Day']==v) & ((df['DHI'] !=0) | (df['DNI'] !=0))].index[0]))\n",
    "        high.append(int(df.loc[(df['Day'] == v) & (df['Hour']==12)& (df['Minute']==0)].index[0]))\n",
    "        sunset.append(int(df.loc[(df['Day']==v) & ((df['DHI'] !=0) | (df['DNI'] !=0))].index[-1]))\n",
    "        end.append(int(df.loc[(df['Day'] ==v)].index[47]))\n",
    "        \n",
    "        sunrise = 0\n",
    "        noon = 90\n",
    "        \n",
    "        first = round((90 / (high[v] - rise[v])),2)\n",
    "        last = round((90 / (sunset[v] - high[v])),2)\n",
    "        \n",
    "        for i in range(start[v],rise[v]) :\n",
    "            weight.append(0)\n",
    "        \n",
    "        weight.append(90)\n",
    "        \n",
    "        for i in range(rise[v]+1,high[v]) :\n",
    "            sunrise += first\n",
    "            weight.append(90 - round(sunrise,2))\n",
    "            \n",
    "        weight.append(noon - 90)\n",
    "        \n",
    "        for i in range(high[v]+1,sunset[v]):\n",
    "            noon -= last\n",
    "            weight.append(90 - round(noon,2))\n",
    "        \n",
    "        weight.append(90)\n",
    "        \n",
    "        for i in range(sunset[v]+1,end[v]+1):\n",
    "            weight.append(0)\n",
    "    \n",
    "    df.insert(5,'GHI',df['DNI'] + df['DHI'] * np.cos(weight))\n",
    "    return df.head()"
   ]
  },
  {
   "cell_type": "markdown",
   "metadata": {},
   "source": [
    "### DNI DHI ()"
   ]
  },
  {
   "cell_type": "code",
   "execution_count": 223,
   "metadata": {},
   "outputs": [],
   "source": [
    "train['DI_mean'] = (train['DHI'] + train['DNI']) / 2\n",
    "\n",
    "test['DI_mean'] = (test['DHI'] + test['DNI']) / 2"
   ]
  },
  {
   "cell_type": "code",
   "execution_count": 143,
   "metadata": {},
   "outputs": [],
   "source": [
    "def make_sun(df):\n",
    "    start = []\n",
    "    rise = []\n",
    "    high = []\n",
    "    sunset = []\n",
    "    weight = []\n",
    "    end = []\n",
    "    for v in range(df['Day'].nunique()):\n",
    "        \n",
    "        start.append(int(df.loc[df['Day']==v].index[0]))\n",
    "        rise.append(int(df.loc[(df['Day'] == v) & (df['DI_mean']!=0)].index[0]))\n",
    "        high.append(int(df.loc[(df['Day'] == v) & (df['Hour']==12)& (df['Minute']==0)].index[0]))\n",
    "        sunset.append(int(df.loc[(df['Day'] == v) & (df['DI_mean']!=0)].index[len(df.loc[(train['Day'] == v) & (df['DI_mean']!=0)])-1]))\n",
    "        end.append(int(df.loc[(df['Day'] ==v)].index[47]))\n",
    "        \n",
    "        \n",
    "        sunrise = 1 # 시작\n",
    "        noon = 2 # 12시\n",
    "        \n",
    "        first = round((1 / (high[v] - rise[v])),2)\n",
    "        last = round((1 / (sunset[v] - high[v])),2)\n",
    "    \n",
    "        for i in range(start[v],rise[v]):\n",
    "            weight.append(0)\n",
    "            \n",
    "        weight.append(1)\n",
    "        for i in range(rise[v]+1,high[v]) :\n",
    "            sunrise += first\n",
    "            weight.append(round(sunrise,2))\n",
    "    \n",
    "        weight.append(noon)\n",
    "    \n",
    "        for i in range(high[v],sunset[v]) :\n",
    "            noon -= last\n",
    "            weight.append(round(noon,2))\n",
    "        \n",
    "        for i in range(sunset[v],end[v]):\n",
    "            weight.append(0)\n",
    "            \n",
    "    return weight"
   ]
  },
  {
   "cell_type": "code",
   "execution_count": null,
   "metadata": {},
   "outputs": [],
   "source": [
    "start = []\n",
    "rise = []\n",
    "high = []\n",
    "sunset = []\n",
    "weight = []\n",
    "end = []\n",
    "\n",
    "for i in range(81) :\n",
    "    df = test[int(len(test) / 81*i) : int(len(test) / 81 * (i+1))]\n",
    "    for v in range(df['Day'].nunique()):\n",
    "        \n",
    "        start.append(int(df.loc[df['Day']==v].index[0]))\n",
    "        rise.append(int(df.loc[(df['Day'] == v) & (df['DI_mean']!=0)].index[0]))\n",
    "        high.append(int(df.loc[(df['Day'] == v) & (df['Hour']==12)& (df['Minute']==0)].index[0]))\n",
    "        sunset.append(int(df.loc[(df['Day'] == v) & (df['DI_mean']!=0)].index[len(df.loc[(train['Day'] == v) & (df['DI_mean']!=0)])-1]))\n",
    "        end.append(int(df.loc[(df['Day'] ==v)].index[47]))\n",
    "        \n",
    "        \n",
    "        sunrise = 1 # 시작\n",
    "        noon = 2 # 12시\n",
    "        \n",
    "        first = round((1 / (high[v] - rise[v])),2)\n",
    "        last = round((1 / (sunset[v] - high[v])),2)\n",
    "    \n",
    "        for i in range(start[v],rise[v]):\n",
    "            weight.append(0)\n",
    "            \n",
    "        weight.append(1)\n",
    "        \n",
    "        for i in range(rise[v]+1,high[v]) :\n",
    "            sunrise += first\n",
    "            weight.append(round(sunrise,2))\n",
    "    \n",
    "        weight.append(noon)\n",
    "    \n",
    "        for i in range(high[v],sunset[v]) :\n",
    "            noon -= last\n",
    "            weight.append(round(noon,2))\n",
    "        \n",
    "        for i in range(sunset[v],end[v]):\n",
    "            weight.append(0)\n",
    "    "
   ]
  },
  {
   "cell_type": "code",
   "execution_count": null,
   "metadata": {},
   "outputs": [],
   "source": [
    "test['sun'] = weight\n",
    "del test['DI_mean']"
   ]
  },
  {
   "cell_type": "markdown",
   "metadata": {},
   "source": [
    "#### 온도풍속계수"
   ]
  },
  {
   "cell_type": "code",
   "execution_count": 226,
   "metadata": {},
   "outputs": [],
   "source": [
    "val = []\n",
    "for i in range(len(train)) :\n",
    "    val.append(round((742.9 + 176.5 * train['T'][i] + 3.562 * train['WS'][i] - 13.14*train['T'][i]**2 - 0.7466*train['T'][i]*train['WS'][i] - 0.151*train['WS'][i]**2),2))\n",
    "    \n",
    "train['option'] = val    "
   ]
  },
  {
   "cell_type": "code",
   "execution_count": 227,
   "metadata": {},
   "outputs": [],
   "source": [
    "val = []\n",
    "for i in range(len(test)) :\n",
    "    val.append(round((742.9 + 176.5 * test['T'][i] + 3.562 * test['WS'][i] - 13.14*test['T'][i]**2 - 0.7466*test['T'][i]*test['WS'][i] - 0.151*test['WS'][i]**2),2))\n",
    "    \n",
    "test['option'] = val    "
   ]
  },
  {
   "cell_type": "markdown",
   "metadata": {},
   "source": [
    "#### eff_gap"
   ]
  },
  {
   "cell_type": "code",
   "execution_count": null,
   "metadata": {},
   "outputs": [],
   "source": [
    "train['eff_gap'] = [.05 * (x - 25) if x > 25 else 0 for x in train['T']]\n",
    "test['eff_gap'] = [.05 * (x - 25) if x > 25 else 0 for x in test['T']]"
   ]
  },
  {
   "cell_type": "code",
   "execution_count": null,
   "metadata": {},
   "outputs": [],
   "source": [
    "def temp_efficiency(df) :\n",
    "    temp = []\n",
    "    for t in df['T'] :\n",
    "        if t > 25:\n",
    "            temp.append(round((t * (0.05 **(t-25))),2))\n",
    "        else:\n",
    "            temp.append(0)\n",
    "    \n",
    "    return temp\n",
    "\n",
    "train['T_efficiency'] = temp_efficiency(train)\n",
    "test['T_efficiency'] = temp_efficiency(test)"
   ]
  },
  {
   "cell_type": "markdown",
   "metadata": {},
   "source": [
    "#### MeanEncoding"
   ]
  },
  {
   "cell_type": "code",
   "execution_count": 229,
   "metadata": {},
   "outputs": [],
   "source": [
    "train['Hour_mean'] = train['Hour'].map(train.groupby(['Hour'])['TARGET'].mean())\n",
    "test['Hour_mean'] = test['Hour'].map(test.groupby(['Hour'])['TARGET'].mean())\n",
    "\n",
    "train['day_mean'] = train.Day.map(train.groupby('Day').TARGET.mean())\n",
    "test['day_mean'] = test.Day.map(test.groupby('Day').TARGET.mean())\n",
    "\n",
    "train['T_mean'] = train['T'].map(train.groupby('T').TARGET.mean())\n",
    "test['T_mean'] = test['T'].map(test.groupby('T').TARGET.mean())\n",
    "\n",
    "train['Td_mean'] = train['Td'].map(train.groupby('Td').TARGET.mean())\n",
    "test['Td_mean'] = test['Td'].map(test.groupby('Td').TARGET.mean())\n",
    "\n",
    "train['WS_mean'] = train['WS'].map(train.groupby('WS')['TARGET'].mean())\n",
    "test['WS_mean'] = test['WS'].map(test.groupby('WS')['TARGET'].mean())"
   ]
  },
  {
   "cell_type": "markdown",
   "metadata": {},
   "source": [
    "#### Season"
   ]
  },
  {
   "cell_type": "code",
   "execution_count": 231,
   "metadata": {},
   "outputs": [],
   "source": [
    "def season(x) :\n",
    "    if x >= 24 :\n",
    "        return 'summer'\n",
    "    elif 5 <= x < 24 :\n",
    "        return 'spring_or_fall'\n",
    "    else :\n",
    "        return 'winter'"
   ]
  },
  {
   "cell_type": "code",
   "execution_count": 232,
   "metadata": {},
   "outputs": [],
   "source": [
    "train_temp_mean = train.groupby('Day')['T'].mean().reset_index(name = 'temp_mean')\n",
    "train_temp_mean['season'] = train_temp_mean['temp_mean'].apply(season)\n",
    "train = pd.merge(train, train_temp_mean, how = 'left', on = 'Day')\n",
    "\n",
    "test_temp_mean = test.groupby('sep_day')['T'].mean().reset_index(name = 'temp_mean')\n",
    "test_temp_mean['season'] = test_temp_mean['temp_mean'].apply(season)\n",
    "test = pd.merge(test, test_temp_mean, how = 'left', on = 'sep_day')\n",
    "\n",
    "train = pd.get_dummies(train,columns=['season'])\n",
    "\n",
    "test = pd.get_dummies(test,columns=['season'])\n",
    "\n",
    "del test['sep_day']"
   ]
  },
  {
   "cell_type": "code",
   "execution_count": 233,
   "metadata": {},
   "outputs": [],
   "source": [
    "train.Minute = train.Minute.map({30 : 1, 0: 0})\n",
    "test.Minute = test.Minute.map({30 : 1, 0: 0})"
   ]
  },
  {
   "cell_type": "markdown",
   "metadata": {},
   "source": [
    "#### 일조율"
   ]
  },
  {
   "cell_type": "code",
   "execution_count": null,
   "metadata": {},
   "outputs": [],
   "source": [
    "try_list = []\n",
    "for d in train['Day'].unique() :\n",
    "    try_list.extend(round(train.loc[train['Day']==d]['GHI2'] / train.groupby('Day')['GHI2'].sum()[d],2))\n",
    "    \n",
    "train['sunshine'] = try_list\n",
    "train['sunshine'] = round(train['sunshine'],2)\n",
    "\n",
    "try_list = []\n",
    "for i in range(81) :\n",
    "    df = test[int(len(test) / 81*i) : int(len(test) / 81 * (i+1))]\n",
    "    for d in df['Day'].unique() :\n",
    "        try_list.extend(round(df.loc[test['Day']==d]['GHI2'] / df.groupby('Day')['GHI2'].sum()[d],2))\n",
    "        \n",
    "test['sunshine'] = try_list\n",
    "test['sunshine'] = round(test['sunshine'],2)"
   ]
  },
  {
   "cell_type": "code",
   "execution_count": null,
   "metadata": {},
   "outputs": [],
   "source": [
    "try_list = []\n",
    "for i in range(81) :\n",
    "    df = test[int(len(test) / 81*i) : int(len(test) / 81 * (i+1))]\n",
    "    for d in df['Day'].unique() :\n",
    "        try_list.extend(round(df.loc[test['Day']==d]['x'] / df.groupby('Day')['x'].sum()[d],2))\n",
    "        \n",
    "test['sunshine'] = try_list\n",
    "test['sunshine'] = round(test['sunshine'],2)"
   ]
  },
  {
   "cell_type": "markdown",
   "metadata": {},
   "source": [
    "#### 습도와 온도차이"
   ]
  },
  {
   "cell_type": "code",
   "execution_count": null,
   "metadata": {},
   "outputs": [],
   "source": [
    "def rain_function(df,name) :\n",
    "    \n",
    "    rain = []\n",
    "    for i,v in enumerate(df['RH']) :\n",
    "        if v == 100 :\n",
    "            rain.append(1)\n",
    "        else :\n",
    "            rain.append(0)\n",
    "    \n",
    "        rain[i] = rain[i] - v\n",
    "        \n",
    "    df[name] = rain\n",
    "    \n",
    "    return df.head()"
   ]
  },
  {
   "cell_type": "code",
   "execution_count": null,
   "metadata": {},
   "outputs": [],
   "source": [
    "rain_function(train,'RH_diff')\n",
    "rain_function(test,'RH_diff')"
   ]
  },
  {
   "cell_type": "markdown",
   "metadata": {},
   "source": [
    "### 시간에 따른 변수들의 차이"
   ]
  },
  {
   "cell_type": "code",
   "execution_count": null,
   "metadata": {},
   "outputs": [],
   "source": [
    "def diff_col_time_train(col) :\n",
    "    interval = [12,24,48,72]\n",
    "    for a in range(len(interval)) :\n",
    "        diff_temper = []\n",
    "        for i in range(len(train)) :\n",
    "            if i > interval[a] :\n",
    "                diff = train[col].iloc[i] - train[col].iloc[i - interval[a]]\n",
    "                diff_temper.append(diff)\n",
    "            else :\n",
    "                diff = train[col].iloc[i] - train[col].iloc[0]\n",
    "                diff_temper.append(diff)\n",
    "        train['Diff_{}{}'.format(col,interval[a])] = diff_temper\n",
    "    return train.head()"
   ]
  },
  {
   "cell_type": "code",
   "execution_count": null,
   "metadata": {},
   "outputs": [],
   "source": [
    "diff_col_time_train('T')"
   ]
  },
  {
   "cell_type": "code",
   "execution_count": null,
   "metadata": {},
   "outputs": [],
   "source": [
    "def diff_col_time_test(col):\n",
    "    diff_temp1 = []\n",
    "    diff_temp2 = []\n",
    "    diff_temp3 = []\n",
    "    diff_temp4 = []\n",
    "    diff_temps = [diff_temp1,diff_temp2,diff_temp3,diff_temp4]\n",
    "    interval = [12,24,48,72]\n",
    "    \n",
    "    for t in range(81) :\n",
    "        df = test[int(len(test) / 81*t) : int(len(test) / 81 * (t+1))]\n",
    "        for a in range(len(interval)) :\n",
    "            diff_temper = []\n",
    "            for i in range(len(df)) :\n",
    "                if i> interval[a] :\n",
    "                    diff = round(df[col].iloc[i] - df[col].iloc[i - interval[a]],2)\n",
    "                    diff_temper.append(diff)\n",
    "                else:\n",
    "                    diff = round(df[col].iloc[i] - df[col].iloc[0],2)\n",
    "                    diff_temper.append(diff)\n",
    "            diff_temps[a].extend(diff_temper)\n",
    "    \n",
    "    for a in range(len(interval)) :\n",
    "        test['Diff_{}{}'.format(col,interval[a])] = diff_temps[a]\n",
    "        \n",
    "    return test.head()"
   ]
  },
  {
   "cell_type": "code",
   "execution_count": null,
   "metadata": {},
   "outputs": [],
   "source": [
    "diff_col_time_train('RH')"
   ]
  },
  {
   "cell_type": "markdown",
   "metadata": {},
   "source": [
    "#### 이동평균"
   ]
  },
  {
   "cell_type": "code",
   "execution_count": null,
   "metadata": {},
   "outputs": [],
   "source": [
    "def moving_average_function(data,col,windows,centers) :\n",
    "    \n",
    "    data['{}_{}'.format(col,windows)] = data[col].rolling(window = windows,center = centers,min_periods = 1).mean()\n",
    "    \n",
    "    return data"
   ]
  },
  {
   "cell_type": "code",
   "execution_count": null,
   "metadata": {},
   "outputs": [],
   "source": [
    "train['RH_1'] = 1 / train['RH']\n",
    "test['RH_1'] = 1 / test['RH']"
   ]
  },
  {
   "cell_type": "code",
   "execution_count": null,
   "metadata": {},
   "outputs": [],
   "source": [
    "train['WS'] = np.sqrt(train['WS'])\n",
    "test['WS'] = np.sqrt(test['WS'])"
   ]
  },
  {
   "cell_type": "code",
   "execution_count": null,
   "metadata": {},
   "outputs": [],
   "source": [
    "train['R_WS'] = train['WS']**2\n",
    "test['R_WS'] = test['WS']**2"
   ]
  }
 ],
 "metadata": {
  "kernelspec": {
   "display_name": "Python 3",
   "language": "python",
   "name": "python3"
  },
  "language_info": {
   "codemirror_mode": {
    "name": "ipython",
    "version": 3
   },
   "file_extension": ".py",
   "mimetype": "text/x-python",
   "name": "python",
   "nbconvert_exporter": "python",
   "pygments_lexer": "ipython3",
   "version": "3.7.7"
  }
 },
 "nbformat": 4,
 "nbformat_minor": 4
}
